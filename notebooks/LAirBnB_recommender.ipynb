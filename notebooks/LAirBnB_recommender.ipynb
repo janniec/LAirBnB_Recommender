{
 "cells": [
  {
   "cell_type": "markdown",
   "metadata": {},
   "source": [
    "# Imports"
   ]
  },
  {
   "cell_type": "code",
   "execution_count": 3,
   "metadata": {
    "collapsed": true
   },
   "outputs": [],
   "source": [
    "import pickle\n",
    "from sklearn.neighbors import NearestNeighbors"
   ]
  },
  {
   "cell_type": "markdown",
   "metadata": {},
   "source": [
    "# Data"
   ]
  },
  {
   "cell_type": "code",
   "execution_count": 4,
   "metadata": {
    "collapsed": false
   },
   "outputs": [],
   "source": [
    "nho_df = pickle.load(open(\"nho_df.p\", \"rb\"))"
   ]
  },
  {
   "cell_type": "code",
   "execution_count": 5,
   "metadata": {
    "collapsed": true
   },
   "outputs": [],
   "source": [
    "listings = nho_df[[col for col in list(nho_df.columns) if col.startswith('topic')]]"
   ]
  },
  {
   "cell_type": "markdown",
   "metadata": {},
   "source": [
    "# Recommender Function"
   ]
  },
  {
   "cell_type": "code",
   "execution_count": 6,
   "metadata": {
    "collapsed": true
   },
   "outputs": [],
   "source": [
    "def LAirBnB_Recommender(listing_number, recommendations_wanted):\n",
    "    neighbors = NearestNeighbors(n_neighbors=recommendations_wanted, algorithm='brute', metric='cosine').fit(listings)\n",
    "    distances, indices = neighbors.kneighbors(listings)\n",
    "    indice = indices[listing_number].tolist()\n",
    "    print(indice)\n",
    "    print('You liked:')\n",
    "    print(nho_df.iloc[int(listing_number)]['overview'])\n",
    "    print('From cluster: ', nho_df.iloc[int(listing_number)]['km_id'])\n",
    "    for n in indice:\n",
    "        if n != listing_number:\n",
    "            if nho_df.iloc[int(listing_number)]['km_id'] == nho_df.iloc[int(n)]['km_id']:\n",
    "                print('index:', n)\n",
    "                print('I recommend:')\n",
    "                print(nho_df.iloc[int(n)]['overview'])\n",
    "                print('From cluster: ', nho_df.iloc[int(n)]['km_id'])\n",
    "            else:\n",
    "                pass\n",
    "        else:\n",
    "            pass\n",
    "            "
   ]
  },
  {
   "cell_type": "markdown",
   "metadata": {},
   "source": [
    "# Get Recommendations"
   ]
  },
  {
   "cell_type": "code",
   "execution_count": 7,
   "metadata": {
    "collapsed": false
   },
   "outputs": [
    {
     "name": "stdout",
     "output_type": "stream",
     "text": [
      "[1755, 200, 1305, 957, 1426]\n",
      "You liked:\n",
      "Just 8 minutes away (walking distance!) from Universal Studio/ Universal City Metro Red line, then 5 minutes away from Hollywood Walk of Fame. no need for a car to explore that part of LA. 15 minutes from Burbank studios (Warner, Abc, Disney) in car. Perfect location for casting calls or Tourism.\n",
      "From cluster:  0\n",
      "index: 1755\n",
      "I recommend:\n",
      "My place is close to the Vista Theatre, The Hollywood Sign, Stout Burgers & Beer, Roscoe's Chicken, Amoeba Music, Hollywood Sign. You’ll love the place because of the high ceilings, the location, the coziness, the art, the kitchen, views of the Hollywood sign & Griffith Observatory. Included is an office space ready for you to tackle your work. My space is good for couples, solo adventurers, and big groups.\n",
      "From cluster:  0\n",
      "index: 1305\n",
      "I recommend:\n",
      "This is Hollywood. The boulevard. The Strip. The Walk of Fame. Wax museum. The Hollywood sign. Star tours. Griffith observatory. The Bowl. The Dolby theater...  Restaurants of world fame... the list is close to endless.\n",
      "From cluster:  0\n",
      "index: 957\n",
      "I recommend:\n",
      "Located in the heart of Hollywood, this luxury apartment is walking distance from world class entertainment and dining including Hollywood & Highland, Mann's Chinese Theater, Walk of Fame and so much more. Walking distance to world-class dining, entertainment, metros, and shopping in Hollywood. It's also a walk away from Runyon Canyon, which offers the best hiking in all of Los Angeles.\n",
      "From cluster:  0\n",
      "index: 1426\n",
      "I recommend:\n",
      "The apartment is located in the heart of Hollywood, just steps from the world famous stars on the Walk of Fame and Graumann's Chinese & the Kodak (home of the Oscars) theaters. At the top of the street are the hiking trails of Runyon Canyon with their incredible views and their daily outdoor yoga classes. The Hollywood and Highland mall is a 5 minute walk away and Ralph's supermarket is at the bottom of the street. This is a great neighbourhood in the heart of bustling Hollywood but set on a quiet corner where you can feel close to the action but not overrun by it.\n",
      "From cluster:  0\n"
     ]
    }
   ],
   "source": [
    "LAirBnB_Recommender(7357 , 5)"
   ]
  },
  {
   "cell_type": "code",
   "execution_count": 8,
   "metadata": {
    "collapsed": false
   },
   "outputs": [
    {
     "name": "stdout",
     "output_type": "stream",
     "text": [
      "[7166, 422, 1657, 2158, 5469]\n",
      "You liked:\n",
      "I think the best part about this space is the location. It's close to everything! 5-15 minutes away from the most popular spots in Los Angeles (Glendale, Echo Park, Pasadena, Alhambra, Burbank, Downtown, etc). Also, this area has become one of the safer parts of Los Angeles over the past few years. The $1 billion LA River project is in full effect.  Many families live on this block, kids play on the street, and the neighbors are super friendly. There are bars and a fire station nearby and it does get pretty noisy around here during weekends. We do provide earplugs for our guests! We're currently renovating the exterior, starting with the roof/paint. The neighborhood is a bit old and isn't well-lit but we're doing our best to renovate. We've had a few \"Am I in the right place?\" moments from guests but they quickly (URL HIDDEN) what's on the inside that counts. :) In the interim, we just want to provide a fun, safe, and comfortable space for everyone. We've had over 200 happy guests with\n",
      "From cluster:  3\n",
      "index: 7166\n",
      "I recommend:\n",
      "Silver Lake has famously become a hip community of artists, musicians, designers, entertainers all converging in an area that is central to most of LA's freeways and close to LA's most popular and secret points of interest.\n",
      "From cluster:  3\n",
      "index: 1657\n",
      "I recommend:\n",
      "Frogtown has historically been a very family oriented neighborhood located on a narrow strip between Silverlake/Echo Park and the LA River. The block that goes along the river has always been industrial buildings. I am in one of the industrial buildings, about a 200 ft walk down to the river trail. We enjoy about the lowest crime rate in LA because there are no through streets and no retail, so no reason to loiter. This makes the neighborhood very quiet and peaceful at night.\n",
      "From cluster:  3\n",
      "index: 2158\n",
      "I recommend:\n",
      "The location couldn't be more ideal. Walking distance from the Echoplex, hip bars, restaurants, music venues, shopping, Walgreen's, health food stores, late night liquor stores, amazing brunch spots, and Echo Park itself. Walkscore of 84! But don't take my word for it, check out these articles and decide for yourself! - LA Weekly: /news/echo-park-greatest-neighborhood-in-los-angeles-which-has-87-of-them-(PHONE NUMBER HIDDEN) - Time Out: /los-angeles/echo-park - Thrillist: drink/los-angeles/echo-park/the-echo-park-neighborhood-guide - Huffington Post: /art-tavana/the-best-neighborhood-in_b_(PHONE NUMBER HIDDEN) - AirBnB: https://www.airbnb.com/locations/los-angeles/echo-park\n",
      "From cluster:  3\n",
      "index: 5469\n",
      "I recommend:\n",
      "Very close to Atwater, Echo Park, Silverlake, Downtown, etc.\n",
      "From cluster:  3\n"
     ]
    }
   ],
   "source": [
    "LAirBnB_Recommender(422 , 5)"
   ]
  },
  {
   "cell_type": "code",
   "execution_count": 9,
   "metadata": {
    "collapsed": false
   },
   "outputs": [
    {
     "name": "stdout",
     "output_type": "stream",
     "text": [
      "[107, 940, 1311]\n",
      "You liked:\n",
      "Brentwood is one of th best neighborhoods in LA. It is right on the edge of the Santa Monica mountains. Amazing hiking and surfing are minutes away. On our street and in our neighborhood are large family homes. We are the only block of condos in our area.\n",
      "From cluster:  2\n",
      "index: 940\n",
      "I recommend:\n",
      "Within the neighborhood, the best that comes out of it is it's location! You will be on Vine & Santa Monica. Along, with a building full of friendly neighbors that will make your stay an ease.\n",
      "From cluster:  2\n",
      "index: 1311\n",
      "I recommend:\n",
      "located in HOLLYWOOD  centered between Down town Los Angeles and Santa Monica and Malibu Beach.\n",
      "From cluster:  2\n"
     ]
    }
   ],
   "source": [
    "LAirBnB_Recommender(107 , 3)"
   ]
  },
  {
   "cell_type": "code",
   "execution_count": 10,
   "metadata": {
    "collapsed": false
   },
   "outputs": [
    {
     "name": "stdout",
     "output_type": "stream",
     "text": [
      "[100, 103, 125]\n",
      "You liked:\n",
      "This is the center of West Hollywood, you'll have plenty of things to do should you chose to stay in the area. At the same time you can easily get to both Beverly Hills, the westside and the beach or if you go east to Hollywood, Silverlake and Downtown.\n",
      "From cluster:  8\n",
      "index: 100\n",
      "I recommend:\n",
      "Palm trees on the street make the neighborhood look beautiful Friendly quiet neighborhood. Great location. 3 miles from the beach 4 miles from beverly hills 5 Miles from Hollywood.\n",
      "From cluster:  8\n",
      "index: 103\n",
      "I recommend:\n",
      "Palm trees on the street make the neighborhood look beautiful Friendly quiet neighborhood. Great location. 3 miles from the beach 4 miles from beverly hills 5 Miles from Hollywood.\n",
      "From cluster:  8\n",
      "index: 125\n",
      "I recommend:\n",
      "Palm trees on the street make the neighborhood look beautiful Friendly quiet neighborhood. Great location. 3 miles from the beach 4 miles from beverly hills 5 Miles from Hollywood.\n",
      "From cluster:  8\n"
     ]
    }
   ],
   "source": [
    "LAirBnB_Recommender(8919 , 3)"
   ]
  },
  {
   "cell_type": "markdown",
   "metadata": {},
   "source": [
    "# Next Steps\n",
    "Incorporate listing features  \n",
    "    Get 100 recommendations.  \n",
    "    Filter out by features:    \n",
    "        Rental type: House, Apartment, Room  \n",
    "        Pricing\n",
    "        Number of guests  \n",
    "        etc.  \n",
    "    Return top # of recommendations."
   ]
  }
 ],
 "metadata": {
  "kernelspec": {
   "display_name": "Python 3",
   "language": "python",
   "name": "python3"
  },
  "language_info": {
   "codemirror_mode": {
    "name": "ipython",
    "version": 3
   },
   "file_extension": ".py",
   "mimetype": "text/x-python",
   "name": "python",
   "nbconvert_exporter": "python",
   "pygments_lexer": "ipython3",
   "version": "3.5.2+"
  },
  "toc": {
   "colors": {
    "hover_highlight": "#DAA520",
    "running_highlight": "#FF0000",
    "selected_highlight": "#FFD700"
   },
   "moveMenuLeft": true,
   "nav_menu": {
    "height": "105px",
    "width": "252px"
   },
   "navigate_menu": true,
   "number_sections": true,
   "sideBar": true,
   "threshold": 4,
   "toc_cell": false,
   "toc_section_display": "block",
   "toc_window_display": false,
   "widenNotebook": false
  }
 },
 "nbformat": 4,
 "nbformat_minor": 2
}
